{
  "nbformat": 4,
  "nbformat_minor": 0,
  "metadata": {
    "colab": {
      "provenance": [],
      "authorship_tag": "ABX9TyNaRYoUjSBWSxM7OEj8zAKC",
      "include_colab_link": true
    },
    "kernelspec": {
      "name": "python3",
      "display_name": "Python 3"
    },
    "language_info": {
      "name": "python"
    }
  },
  "cells": [
    {
      "cell_type": "markdown",
      "metadata": {
        "id": "view-in-github",
        "colab_type": "text"
      },
      "source": [
        "<a href=\"https://colab.research.google.com/github/subhojitpramanick/Artificial_Intelligence_algo/blob/main/TicTacToe_Computer_vs_computer.ipynb\" target=\"_parent\"><img src=\"https://colab.research.google.com/assets/colab-badge.svg\" alt=\"Open In Colab\"/></a>"
      ]
    },
    {
      "cell_type": "code",
      "execution_count": 60,
      "metadata": {
        "id": "h7AVlg8Z-w45"
      },
      "outputs": [],
      "source": [
        "# import numpy as np\n",
        "import random as rd\n",
        "#just importing Random Function"
      ]
    },
    {
      "cell_type": "markdown",
      "source": [
        "# for getting the place in the board"
      ],
      "metadata": {
        "id": "yB7ynB0DL78a"
      }
    },
    {
      "cell_type": "code",
      "source": [
        "def get_place(Board,player,symbol):\n",
        "  i,j=rd.randint(0,2),rd.randint(0,2)\n",
        "  if Board[i][j]=='':\n",
        "    Board[i][j]=symbol\n",
        "    return Board\n",
        "  else:\n",
        "    return get_place(Board,player,symbol)\n",
        "\n",
        ""
      ],
      "metadata": {
        "id": "3G8S8RU9_OqO"
      },
      "execution_count": 61,
      "outputs": []
    },
    {
      "cell_type": "markdown",
      "source": [
        "**Winner Fuction For Deriving the Winner**"
      ],
      "metadata": {
        "id": "nAiD9OIiMS7J"
      }
    },
    {
      "cell_type": "code",
      "source": [
        "def col_win(Board,player,symbol):\n",
        "  for x in range(3):\n",
        "    if Board[0][x]==Board[1][x]==Board[2][x]==symbol:\n",
        "      return True\n",
        "  return False"
      ],
      "metadata": {
        "id": "sZGdUdJ1ASVG"
      },
      "execution_count": 62,
      "outputs": []
    },
    {
      "cell_type": "code",
      "source": [
        "def row_win(Board,player,symbol):\n",
        "  for x in range(3):\n",
        "    if Board[x][0]==Board[x][1]==Board[x][2]==symbol:\n",
        "      return True\n",
        "  return False"
      ],
      "metadata": {
        "id": "z-qVsglsAx-Z"
      },
      "execution_count": 63,
      "outputs": []
    },
    {
      "cell_type": "code",
      "source": [
        "def diagonal_win(Board,player,symbol):\n",
        "  if Board[0][0]==Board[1][1]==Board[2][2]==symbol:\n",
        "    return True\n",
        "  elif Board[0][2]==Board[1][1]==Board[2][0]==symbol:\n",
        "    return True\n",
        "  return False"
      ],
      "metadata": {
        "id": "hZo9wLZUA0wN"
      },
      "execution_count": 64,
      "outputs": []
    },
    {
      "cell_type": "code",
      "source": [
        "def win_player(board,player,symbol):\n",
        "  if col_win(board,player,symbol) or row_win(board,player,symbol) or diagonal_win(board,player,symbol):\n",
        "    return True\n",
        "  return False"
      ],
      "metadata": {
        "id": "ei2h2ZEBA-YF"
      },
      "execution_count": 70,
      "outputs": []
    },
    {
      "cell_type": "markdown",
      "source": [
        "Utility Function for getting Goodshape Board\n"
      ],
      "metadata": {
        "id": "MmjVbLfBMc8f"
      }
    },
    {
      "cell_type": "code",
      "source": [
        "def printBoard(board):\n",
        "  print(\"---|---|---\")\n",
        "  for i in range(3):\n",
        "    print(board[i][0],\"  \",board[i][1],\"  \",board[i][2])\n",
        "    print(\"---|---|---\")"
      ],
      "metadata": {
        "id": "p40tssRlBt2G"
      },
      "execution_count": 71,
      "outputs": []
    },
    {
      "cell_type": "markdown",
      "source": [
        "# MAIN.PY"
      ],
      "metadata": {
        "id": "qpgaC-w6MoMJ"
      }
    },
    {
      "cell_type": "code",
      "source": [
        "\n",
        "print(\"Select Symbol for player 1:\")\n",
        "symbol=['','']\n",
        "symbol[0]=input()\n",
        "print(\"Select Symbol for player 2:\")\n",
        "symbol[1]=input()\n",
        "board=[['','',''] for i in range(3)]\n",
        "printBoard(board)\n",
        "win=False\n",
        "cnt=0\n",
        "while(not win):\n",
        "  for player in range(1,3):\n",
        "    print(\"FOR PLAYER: \",player,type(player))\n",
        "    get_place(board,player,symbol[player-1])\n",
        "    printBoard(board)\n",
        "    if win_player(board,player,symbol[player-1]):\n",
        "      print(\"Player\",player,\"wins\")\n",
        "      win=True\n",
        "      break\n",
        "    cnt+=1\n",
        "    if cnt==9:\n",
        "      print(\"Draw\")\n",
        "      win=True\n",
        "      break\n",
        "\n"
      ],
      "metadata": {
        "colab": {
          "base_uri": "https://localhost:8080/"
        },
        "id": "B0SxOuIZBGpl",
        "outputId": "016bd5e0-b0b4-402e-c6ee-d7fdffdc9300"
      },
      "execution_count": 73,
      "outputs": [
        {
          "output_type": "stream",
          "name": "stdout",
          "text": [
            "Select Symbol for player 1:\n",
            "X\n",
            "Select Symbol for player 2:\n",
            "y\n",
            "---|---|---\n",
            "        \n",
            "---|---|---\n",
            "        \n",
            "---|---|---\n",
            "        \n",
            "---|---|---\n",
            "FOR PLAYER:  1 <class 'int'>\n",
            "---|---|---\n",
            "    X    \n",
            "---|---|---\n",
            "        \n",
            "---|---|---\n",
            "        \n",
            "---|---|---\n",
            "FOR PLAYER:  2 <class 'int'>\n",
            "---|---|---\n",
            "    X    \n",
            "---|---|---\n",
            "    y    \n",
            "---|---|---\n",
            "        \n",
            "---|---|---\n",
            "FOR PLAYER:  1 <class 'int'>\n",
            "---|---|---\n",
            "    X    \n",
            "---|---|---\n",
            "    y    \n",
            "---|---|---\n",
            "        X\n",
            "---|---|---\n",
            "FOR PLAYER:  2 <class 'int'>\n",
            "---|---|---\n",
            "    X    \n",
            "---|---|---\n",
            "    y    y\n",
            "---|---|---\n",
            "        X\n",
            "---|---|---\n",
            "FOR PLAYER:  1 <class 'int'>\n",
            "---|---|---\n",
            "    X    \n",
            "---|---|---\n",
            "    y    y\n",
            "---|---|---\n",
            "X        X\n",
            "---|---|---\n",
            "FOR PLAYER:  2 <class 'int'>\n",
            "---|---|---\n",
            "    X    y\n",
            "---|---|---\n",
            "    y    y\n",
            "---|---|---\n",
            "X        X\n",
            "---|---|---\n",
            "FOR PLAYER:  1 <class 'int'>\n",
            "---|---|---\n",
            "    X    y\n",
            "---|---|---\n",
            "    y    y\n",
            "---|---|---\n",
            "X    X    X\n",
            "---|---|---\n",
            "Player 1 wins\n"
          ]
        }
      ]
    },
    {
      "cell_type": "code",
      "source": [],
      "metadata": {
        "colab": {
          "base_uri": "https://localhost:8080/",
          "height": 109
        },
        "id": "k1TKtiAbCFzU",
        "outputId": "b66c18aa-af6e-4823-f61e-6fa8b428fd9d"
      },
      "execution_count": 68,
      "outputs": [
        {
          "output_type": "error",
          "ename": "SyntaxError",
          "evalue": "incomplete input (<ipython-input-68-0938bd8906ef>, line 1)",
          "traceback": [
            "\u001b[0;36m  File \u001b[0;32m\"<ipython-input-68-0938bd8906ef>\"\u001b[0;36m, line \u001b[0;32m1\u001b[0m\n\u001b[0;31m    \\\u001b[0m\n\u001b[0m     ^\u001b[0m\n\u001b[0;31mSyntaxError\u001b[0m\u001b[0;31m:\u001b[0m incomplete input\n"
          ]
        }
      ]
    }
  ]
}